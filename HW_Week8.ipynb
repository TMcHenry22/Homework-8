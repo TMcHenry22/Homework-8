{
 "cells": [
  {
   "cell_type": "markdown",
   "metadata": {},
   "source": [
    "# PHYS 20323/60323 Homework Week 8\n",
    "\n",
    "FALL 2022\n"
   ]
  },
  {
   "cell_type": "markdown",
   "metadata": {},
   "source": [
    "### 1) Altitude of a satellite\n",
    "\n",
    "A satellite is to be launched into a circular orbit around the Earth so that it orbits the planet once every T seconds.\n",
    "\n",
    "The altitude h above the Earth’s surface that the satellite must have is:\n",
    "\n",
    "$$h = \\left( \\frac{G M T^2}{4\\pi^2} \\right)^{1/3} - R$$\n",
    "\n",
    "where $G = 6.67 \\times 10^{-11}$ m$^3$ kg$^{-1}$ s$^{-2}$\n",
    "is Newton's gravitational constant, $M = 5.97 \\times 10^{24}$ kg is the mass of the Earth, and $R = 6371$ km is its radius.\n",
    "\n",
    "#### Write a program that asks the user to enter the desired value of T and then calculates and prints out the correct altitude in meters.\n"
   ]
  },
  {
   "cell_type": "code",
   "execution_count": null,
   "metadata": {},
   "outputs": [],
   "source": [
    "import math\n",
    "def altSat():\n",
    "    t= float(input(\"What is the time(seconds) the satellite is to complete one orbit of the planet? \"))\n",
    "    units= input('Is the time above in seconds? (input true or false)')\n",
    "    if(units=='false'):\n",
    "        userunits= input(\"What are the Units you used? (input min, hrs)(if neither submit nothing or 'na')\")\n",
    "        if(userunits=='min'):\n",
    "            t=t*60\n",
    "        elif(userunits=='hrs'):\n",
    "            t=t*3600\n",
    "        else:\n",
    "            return \"Unable to calculate correct units\"\n",
    "    g= (6.67*(10**-11))\n",
    "    m=(5.97*(10**24))\n",
    "    r=(6371*1000)\n",
    "    h=(((g*m*(t**2))/(4*(math.pi**2)))**(1/3))\n",
    "    hf= h-r\n",
    "    return hf\n",
    "\n",
    "\n",
    "print(altSat())"
   ]
  },
  {
   "cell_type": "markdown",
   "metadata": {},
   "source": [
    "Use your program to calculate the altitudes of satellites that orbit the Earth once\n",
    "a day (so-called “geosynchronous” orbit), once every 90 minutes, and once every\n",
    "45 minutes. What do you conclude from the last of these calculations?\n",
    "\n",
    "\n",
    "\n"
   ]
  },
  {
   "cell_type": "code",
   "execution_count": null,
   "metadata": {},
   "outputs": [],
   "source": [
    "print(altSat())\n",
    "#every 45 minutes -2181559.8978108233.    \n",
    "#every 90 minutes 279321.62537285965     \n",
    "#between 45 and 90 minutes the satellite is able to orbit the planet in that preprogrammed time at a safe altitude"
   ]
  },
  {
   "cell_type": "markdown",
   "metadata": {},
   "source": [
    "Technically a geosynchronous satellite is one that orbits the Earth once persidereal\n",
    "day, which is 23.93 hours, not 24 hours. Why is this? And how much difference\n",
    "will it make to the altitude of the satellite?"
   ]
  },
  {
   "cell_type": "code",
   "execution_count": null,
   "metadata": {},
   "outputs": [],
   "source": [
    "#print(altSat())\n",
    "#for 24 hrs the altitude is 35855910.17617497\n",
    "#fro 23.93 hours the altitude is 35773762.329895645\n",
    "diff= 35855910.17617497-35773762.329895645\n",
    "print(diff)\n",
    "#the difference between the two value is 82147.8462793231. This means the the amount of error this early\n",
    "#estimation causes catastrophic error in the accuracy of the satelites altitude"
   ]
  },
  {
   "cell_type": "markdown",
   "metadata": {},
   "source": [
    "### 2) Special Relativity\n",
    "\n",
    "A spaceship travels from Earth in a straight line at a (relativistic)\n",
    "speed $v$ to another planet $x$ light years away. Write a program to ask\n",
    "the user for the value of $x$ and the speed $v$ as a fraction of the speed\n",
    "of light, then print out the time in years that the spaceship takes to\n",
    "reach its destination (a) in the rest frame of an observer on Earth\n",
    "and (b) as perceived by a passenger on board the ship.\n",
    "\n",
    "$$x' = \\gamma (x - vt)$$\n",
    "\n",
    "$$t' = \\gamma \\left(t - \\frac{v x}{c^2}\\right)$$\n",
    "\n",
    "$$\\gamma = \\frac{1}{\\sqrt{1 - \\frac{v^2}{c^2}}}$$\n"
   ]
  },
  {
   "cell_type": "code",
   "execution_count": 2,
   "metadata": {},
   "outputs": [
    {
     "name": "stdout",
     "output_type": "stream",
     "text": [
      "The spaceship is how many light years away from another planet?10\n",
      "The spacship is going to another planet at speed v?0.9\n"
     ]
    },
    {
     "data": {
      "text/plain": [
       "(1.614407016126176e-08, 6.882472016116853e-08)"
      ]
     },
     "execution_count": 2,
     "metadata": {},
     "output_type": "execute_result"
    }
   ],
   "source": [
    "import math\n",
    "def specRel():\n",
    "    c=3.0*(10**8)\n",
    "    xly= float(input(\"The spaceship is how many light years away from another planet?\"))\n",
    "    vuser=float(input(\"The spacship is going to another planet at speed v?\"))\n",
    "    v=vuser*c\n",
    "    sqrval=(1-(v**2/c**2))\n",
    "    yval=(1/math.sqrt(sqrval))\n",
    "    t=(xly/v)\n",
    "    tp=(yval*(t-((v*xly)/(c**2))))\n",
    "    xp= (yval*((xly*v)/c**2))\n",
    "    return tp,xp\n",
    "\n",
    "specRel()"
   ]
  },
  {
   "cell_type": "markdown",
   "metadata": {},
   "source": [
    "#### Use your program to calculate the answers for a planet 10 light years away with $v = 0.90c$,  $v = 0.98c$, $v = 0.999c$."
   ]
  },
  {
   "cell_type": "code",
   "execution_count": null,
   "metadata": {},
   "outputs": [],
   "source": [
    "specRel()\n",
    "#for v=0.90 tp=1.614407016126176e-08\n",
    "#for v=0.98 tp=6.768622021133477e-09\n",
    "#for v=0.999 tp=1.4918310914987014e-09"
   ]
  },
  {
   "cell_type": "markdown",
   "metadata": {},
   "source": [
    "### 3) The quadratic equation\n",
    "\n",
    " Write a program that takes as input three numbers, $a$, $b$, and $c$, and prints out the two solutions to the quadratic equation $ax^2 + bx + c = 0$ using the standard\n",
    "formula:\n",
    "\n",
    "$$x = \\frac{-b \\pm \\sqrt{b^2 - 4ac}}{2a}$$\n",
    "\n",
    "Use your program to compute the solutions of $0.001x^2 + 1000x + 0.001 = 0$."
   ]
  },
  {
   "cell_type": "code",
   "execution_count": null,
   "metadata": {},
   "outputs": [],
   "source": [
    "import math\n",
    "def quadEqu():\n",
    "    auser= float(input(\"Input a value for the quadratic formula: \"))\n",
    "    buser=float(input(\"Input b value for the quadratic formula: \"))\n",
    "    cuser=float(input(\"Input c value for the quadratic formula: \"))\n",
    "    xsqu=float(math.sqrt((buser**2)-(4*auser*cuser)))\n",
    "    x1=(-buser+xsqu)/(2*auser) \n",
    "    x2=(-buser-xsqu/2*auser)\n",
    "    closer=x1-x2\n",
    "    closer2=x2-x1\n",
    "    return x1,x2\n",
    "quadEqu()\n"
   ]
  },
  {
   "cell_type": "markdown",
   "metadata": {},
   "source": [
    "There is another way to write the solutions to a quadratic equation. Multiplying top and bottom of the solution above by $-b \\mp \\sqrt{b^2 - 4ac}$, show that the solutions\n",
    "can also be written as:\n",
    "\n",
    "$$x = \\frac{2c}{-b \\mp \\sqrt{b^2 - 4ac}}$$\n",
    "\n",
    "Add further lines to your program to print these values in addition to the earlier ones and again use the program to solve $0.001x^2 + 1000x + 0.001 = 0$. What do you see? How do you explain it?"
   ]
  },
  {
   "cell_type": "code",
   "execution_count": null,
   "metadata": {},
   "outputs": [],
   "source": [
    "import math\n",
    "def quadEqu2():\n",
    "    a= float(input(\"Input a value for the quadratic formula: \"))\n",
    "    b=float(input(\"Input b value for the quadratic formula: \"))\n",
    "    c=float(input(\"Input c value for the quadratic formula: \"))\n",
    "    sqrt= (b**2-(4*a*c))\n",
    "    xsqu=math.sqrt(sqrt)\n",
    "    x1=(2*c)/(-b+xsqu) #not good enough\n",
    "    x2=(2*c)/(-b-xsqu) \n",
    "    return x1,x2\n",
    "print(quadEqu2())\n",
    "print(quadEqu())\n",
    "\n",
    "#if cast numbers as bit 32. set up some rule in logic to choose which is closer together"
   ]
  },
  {
   "cell_type": "markdown",
   "metadata": {},
   "source": [
    "Using what you have learned, write a new program that calculates both roots of a quadratic equation accurately in all cases."
   ]
  },
  {
   "cell_type": "code",
   "execution_count": null,
   "metadata": {},
   "outputs": [],
   "source": [
    "def bestquadEqu():\n",
    "    a= float(input(\"Input a value for the quadratic formula: \"))\n",
    "    b=float(input(\"Input b value for the quadratic formula: \"))\n",
    "    c=float(input(\"Input c value for the quadratic formula: \"))\n",
    "    xsqu1=float(math.sqrt((b**2)-(4*a*c)))\n",
    "    x1=(-b+xsqu1)/(2*a) \n",
    "    x2=(-b-xsqu1/2*a)#not good x\n",
    "    sqrt= (b**2-(4*a*c))\n",
    "    xsqu2=math.sqrt(sqrt)\n",
    "    x3=(2*c)/(-b+xsqu2) #not good enough\n",
    "    x4=(2*c)/(-b-xsqu2) \n",
    "    closer=math.fabs(x1-x2)\n",
    "    closer3=math.fabs(x4-x3)\n",
    "    closer5=math.fabs(x1-x3)\n",
    "    closer7=math.fabs(x2-x3)\n",
    "    closer9=math.fabs(x1-x4)\n",
    "    closer11=math.fabs(x4-x2)\n",
    "    if((closer<closer3) and (closer<closer5) and (closer<closer7) and (closer<closer9) and (closer<closer11)):\n",
    "        return (x1,x2)\n",
    "    elif((closer3<closer5) and (closer3<closer7) and (closer3<closer9) and (closer3<closer11)):\n",
    "        return (x3,x4)\n",
    "    elif( (closer5<closer7) and (closer5<closer9) and (closer5<closer11)):\n",
    "        return (x1,x3)\n",
    "    elif((closer7<closer9) and (closer7<closer11)):\n",
    "        return (x2,x3)\n",
    "    elif(closer9<closer11):\n",
    "        return (x1,x4)\n",
    "    else:\n",
    "        return (x2,x4)\n",
    "    \n",
    "bestquadEqu()"
   ]
  },
  {
   "cell_type": "code",
   "execution_count": null,
   "metadata": {},
   "outputs": [],
   "source": []
  }
 ],
 "metadata": {
  "kernelspec": {
   "display_name": "Python 3 (ipykernel)",
   "language": "python",
   "name": "python3"
  },
  "language_info": {
   "codemirror_mode": {
    "name": "ipython",
    "version": 3
   },
   "file_extension": ".py",
   "mimetype": "text/x-python",
   "name": "python",
   "nbconvert_exporter": "python",
   "pygments_lexer": "ipython3",
   "version": "3.9.12"
  }
 },
 "nbformat": 4,
 "nbformat_minor": 4
}
